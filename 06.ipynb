{
  "nbformat": 4,
  "nbformat_minor": 0,
  "metadata": {
    "colab": {
      "provenance": [],
      "authorship_tag": "ABX9TyNxtnkSkmkyOd5YVSPKzULU",
      "include_colab_link": true
    },
    "kernelspec": {
      "name": "python3",
      "display_name": "Python 3"
    },
    "language_info": {
      "name": "python"
    }
  },
  "cells": [
    {
      "cell_type": "markdown",
      "metadata": {
        "id": "view-in-github",
        "colab_type": "text"
      },
      "source": [
        "<a href=\"https://colab.research.google.com/github/Ujk-droid/001projectaddition/blob/main/06.ipynb\" target=\"_parent\"><img src=\"https://colab.research.google.com/assets/colab-badge.svg\" alt=\"Open In Colab\"/></a>"
      ]
    },
    {
      "cell_type": "code",
      "execution_count": null,
      "metadata": {
        "colab": {
          "base_uri": "https://localhost:8080/"
        },
        "id": "G6jAdzLQzAH5",
        "outputId": "92c71375-948c-4a03-d8c5-dca344570784"
      },
      "outputs": [
        {
          "output_type": "stream",
          "name": "stdout",
          "text": [
            "avg_1 5.0\n",
            "avg_2 9.0\n",
            "final 7.0\n"
          ]
        }
      ],
      "source": [
        "def average(a: float, b: float):\n",
        "    \"\"\"\n",
        "    Returns the number which is half way between a and b\n",
        "    \"\"\"\n",
        "    sum = a + b\n",
        "    return sum / 2\n",
        "\n",
        "def main():\n",
        "    avg_1 = average(0, 10)\n",
        "    avg_2 = average(8, 10)\n",
        "\n",
        "    final = average(avg_1, avg_2)\n",
        "    print(\"avg_1\", avg_1)\n",
        "    print(\"avg_2\", avg_2)\n",
        "    print(\"final\", final)\n",
        "\n",
        "\n",
        "# There is no need to edit code beyond this point\n",
        "\n",
        "if __name__ == '__main__':\n",
        "    main()"
      ]
    },
    {
      "cell_type": "code",
      "source": [
        "# Define the main function that runs the program\n",
        "def main():\n",
        "    # Loop over the range of numbers from 0 to 9\n",
        "    for i in range(10):\n",
        "        # Check if the current number 'i' is odd using the helper function 'is_odd'\n",
        "        if is_odd(i):\n",
        "            # If the number is odd, print 'odd'\n",
        "            print('odd')\n",
        "        else:\n",
        "            # If the number is not odd (i.e., it is even), print 'even'\n",
        "            print('even')\n",
        "\n",
        "# Define a function that checks if a number is odd\n",
        "def is_odd(value: int):\n",
        "    \"\"\"\n",
        "    Checks to see if a value is odd. If it is, returns True; otherwise, returns False.\n",
        "    \"\"\"\n",
        "\n",
        "    # Use the modulus operator to get the remainder when 'value' is divided by 2.\n",
        "    # If the remainder is 1, the number is odd.\n",
        "    remainder = value % 2  # 0 if the value is divisible by 2, 1 if it's not\n",
        "    # Return True if the remainder is 1 (odd), otherwise return False (even)\n",
        "    return remainder == 1\n",
        "\n",
        "# This block ensures that the code only runs if the script is executed directly (not imported as a module).\n",
        "if __name__ == '__main__':\n",
        "    # Call the main function to execute the program\n",
        "    main()\n"
      ],
      "metadata": {
        "id": "uXEYKGUwfjR-"
      },
      "execution_count": null,
      "outputs": []
    },
    {
      "cell_type": "code",
      "source": [
        "def print_divisors(num: int):\n",
        "    print(\"Here are the divisors of\", num)\n",
        "    for i in range(num):\n",
        "        curr_divisor = i + 1\n",
        "        if num % curr_divisor == 0:\n",
        "            print(curr_divisor)\n",
        "\n",
        "def main():\n",
        "    num = int(input(\"Enter a number: \"))\n",
        "    print_divisors(num)\n",
        "\n",
        "\n",
        "# There is no need to edit code beyond this point\n",
        "\n",
        "if __name__ == '__main__':\n",
        "    main()"
      ],
      "metadata": {
        "id": "-otT09zKgfKO"
      },
      "execution_count": null,
      "outputs": []
    },
    {
      "cell_type": "code",
      "source": [
        "# Function to print a message a certain number of times\n",
        "def print_multiple(message: str, repeats: int):\n",
        "    # Loop to print the message the specified number of times\n",
        "    for i in range(repeats):\n",
        "        print(message)\n",
        "\n",
        "# Main function to get user input and call print_multiple\n",
        "def main():\n",
        "    # Prompt the user to type a message\n",
        "    message = input(\"Please type a message: \")\n",
        "    # Prompt the user to enter the number of repeats\n",
        "    repeats = int(input(\"Enter a number of times to repeat your message: \"))\n",
        "    # Call the print_multiple function with the user input\n",
        "    print_multiple(message, repeats)\n",
        "\n",
        "# This line is required to call the main function when running the script\n",
        "if __name__ == '__main__':\n",
        "    main()\n"
      ],
      "metadata": {
        "id": "FpWfLY31hYyc"
      },
      "execution_count": null,
      "outputs": []
    },
    {
      "cell_type": "code",
      "source": [
        "# Function to make a sentence based on the part of speech\n",
        "def make_sentence(word, part_of_speech):\n",
        "    # Check if the part of speech is a noun (0)\n",
        "    if part_of_speech == 0:\n",
        "        # If it's a noun, print a sentence with the noun\n",
        "        print(\"I am excited to add this \" + word + \" to my vast collection of them!\")\n",
        "    # Check if the part of speech is a verb (1)\n",
        "    elif part_of_speech == 1:\n",
        "        # If it's a verb, print a sentence with the verb\n",
        "        print(\"It's so nice outside today it makes me want to \" + word + \"!\")\n",
        "    # Check if the part of speech is an adjective (2)\n",
        "    elif part_of_speech == 2:\n",
        "        # If it's an adjective, print a sentence with the adjective\n",
        "        print(\"Looking out my window, the sky is big and \" + word + \"!\")\n",
        "    else:\n",
        "        # If the part of speech is invalid, print an error message\n",
        "        print(\"Part of speech must be 0, 1, or 2! Can't make a sentence.\")\n",
        "\n",
        "# The main function where user input is collected\n",
        "def main():\n",
        "    # Ask the user to type a word (which could be a noun, verb, or adjective)\n",
        "    word = input(\"Please type a noun, verb, or adjective: \")\n",
        "    # Ask the user to specify the part of speech of the word\n",
        "    print(\"Is this a noun, verb, or adjective?\")\n",
        "    # Ask the user to input the part of speech (0 for noun, 1 for verb, 2 for adjective)\n",
        "    part_of_speech = int(input(\"Type 0 for noun, 1 for verb, 2 for adjective: \"))\n",
        "    # Call the make_sentence function with the word and part_of_speech as arguments\n",
        "    make_sentence(word, part_of_speech)\n",
        "\n",
        "# This line ensures that the main function runs when the script is executed\n",
        "if __name__ == '__main__':\n",
        "    main()\n"
      ],
      "metadata": {
        "id": "vffeDTprjzCZ"
      },
      "execution_count": null,
      "outputs": []
    },
    {
      "cell_type": "code",
      "source": [
        "# Function to print the ones digit of a given number\n",
        "def print_ones_digit(num):\n",
        "    # The ones digit can be found using the modulo operator\n",
        "    print(\"The ones digit is\", num % 10)\n",
        "\n",
        "# Main function where user input is collected and passed to the print_ones_digit function\n",
        "def main():\n",
        "    # Ask the user to enter a number\n",
        "    num = int(input(\"Enter a number: \"))\n",
        "    # Call the print_ones_digit function with the entered number\n",
        "    print_ones_digit(num)\n",
        "\n",
        "# This line ensures the main function runs when the script is executed\n",
        "if __name__ == '__main__':\n",
        "    main()\n"
      ],
      "metadata": {
        "id": "8IVNFr3fkvao"
      },
      "execution_count": null,
      "outputs": []
    },
    {
      "cell_type": "code",
      "source": [
        "import random  # Importing the random module\n",
        "\n",
        "DONE_LIKELIHOOD = 0.5  # 50% chance to stop the counting\n",
        "\n",
        "def chaotic_counting():\n",
        "    for i in range(150):\n",
        "        curr_num = i + 1\n",
        "        if done():\n",
        "            return  # Ends the function early if done() returns True\n",
        "        print(curr_num)\n",
        "\n",
        "def done():\n",
        "    \"\"\" Returns True with a probability of DONE_LIKELIHOOD \"\"\"\n",
        "    if random.random() < DONE_LIKELIHOOD:  # Generate a random number and compare with DONE_LIKELIHOOD\n",
        "        return True\n",
        "    return False\n",
        "\n",
        "def main():\n",
        "    print(\"I'm going to count until 100 or until I feel like stopping, whichever comes first.\")\n",
        "    chaotic_counting()\n",
        "    print(\"I'm done\")\n",
        "\n",
        "if __name__ == \"__main__\":\n",
        "    main()\n"
      ],
      "metadata": {
        "id": "4XAAVLyZ3qUK"
      },
      "execution_count": null,
      "outputs": []
    },
    {
      "cell_type": "code",
      "source": [
        "def count_even(lst):\n",
        "    \"\"\"\n",
        "    Returns number of even numbers in list.\n",
        "    >>> count_even([1, 2, 3, 4])\n",
        "    2\n",
        "    >>> count_even([1, 3, 5, 7])\n",
        "    0\n",
        "    \"\"\"\n",
        "    count = 0  # Stores the count of even numbers in the list\n",
        "    for num in lst:  # Loop through the numbers in the list\n",
        "        if num % 2 == 0:  # If the current number in the list is even (divisible by 2)\n",
        "            count += 1  # Add one to our count!\n",
        "\n",
        "    return count  # Return the count instead of printing it\n",
        "\n",
        "def get_list_of_ints():\n",
        "    \"\"\"\n",
        "    Reads in integers until the user presses enter and returns the resulting list.\n",
        "    \"\"\"\n",
        "    lst = []  # Make an empty list to store integers\n",
        "    user_input = input(\"Enter an integer or press enter to stop: \")  # Get user input for an integer\n",
        "    while user_input != \"\":  # While the user doesn't enter nothing...\n",
        "        try:\n",
        "            lst.append(int(user_input))  # Cast the user input into an integer and add it to our list\n",
        "        except ValueError:\n",
        "            print(\"That's not a valid integer, try again.\")\n",
        "        user_input = input(\"Enter an integer or press enter to stop: \")  # Get the next user input\n",
        "\n",
        "    return lst\n",
        "\n",
        "def main():\n",
        "    lst = get_list_of_ints()  # Get the list of integers from the user\n",
        "    even_count = count_even(lst)  # Get the count of even numbers\n",
        "    print(f\"Number of even numbers: {even_count}\")  # Print the count\n",
        "\n",
        "# There is no need to edit code beyond this point\n",
        "if __name__ == '__main__':\n",
        "    main()\n"
      ],
      "metadata": {
        "id": "q80xjgd_5vl2"
      },
      "execution_count": null,
      "outputs": []
    },
    {
      "cell_type": "code",
      "source": [
        "def double(num: int):\n",
        "    return num * 2\n",
        "\n",
        "# There is no need to edit code beyond this point\n",
        "\n",
        "def main():\n",
        "    num = int(input(\"Enter a number: \"))\n",
        "    num_times_2 = double(num)\n",
        "    print(\"Double that is\", num_times_2)\n",
        "\n",
        "if __name__ == '__main__':\n",
        "    main()"
      ],
      "metadata": {
        "id": "kcrlXvxD6k0X"
      },
      "execution_count": null,
      "outputs": []
    },
    {
      "cell_type": "code",
      "source": [
        "def get_name():\n",
        "    return \"khan\"\n",
        "\n",
        "# There is no need to edit code beyond this point\n",
        "\n",
        "def main():\n",
        "    name = get_name() # get_name() will return a string which we store to the 'name' variable here\n",
        "    print(\"Malahim\", name, \"! 🤠\")\n",
        "\n",
        "if __name__ == '__main__':\n",
        "    main()"
      ],
      "metadata": {
        "id": "zUl5eeNF7Hxu"
      },
      "execution_count": null,
      "outputs": []
    }
  ]
}