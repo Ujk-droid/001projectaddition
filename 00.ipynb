{
  "nbformat": 4,
  "nbformat_minor": 0,
  "metadata": {
    "colab": {
      "provenance": [],
      "authorship_tag": "ABX9TyOyaIS2hks3wNZKAt3H9PeX",
      "include_colab_link": true
    },
    "kernelspec": {
      "name": "python3",
      "display_name": "Python 3"
    },
    "language_info": {
      "name": "python"
    }
  },
  "cells": [
    {
      "cell_type": "markdown",
      "metadata": {
        "id": "view-in-github",
        "colab_type": "text"
      },
      "source": [
        "<a href=\"https://colab.research.google.com/github/Ujk-droid/001projectaddition/blob/main/00.ipynb\" target=\"_parent\"><img src=\"https://colab.research.google.com/assets/colab-badge.svg\" alt=\"Open In Colab\"/></a>"
      ]
    },
    {
      "cell_type": "markdown",
      "source": [],
      "metadata": {
        "id": "BdA2eUwGSR16"
      }
    },
    {
      "cell_type": "code",
      "source": [
        "def main():\n",
        "    # Asking the user for their favorite animal\n",
        "    favorite_animal = input(\"What's your favorite animal? \")\n",
        "\n",
        "    # Responding with the same animal as the user's favorite and an emoji\n",
        "    print(f\"My favorite animal is also {favorite_animal} 🐄!\")\n",
        "\n",
        "# This provided line is required at the end of\n",
        "# Python file to call the main() function.\n",
        "if __name__ == '__main__':\n",
        "    main()"
      ],
      "metadata": {
        "colab": {
          "base_uri": "https://localhost:8080/"
        },
        "id": "rUA7iBAuSbk0",
        "outputId": "f831531a-56c7-4a5c-97ba-9d05230cfe34"
      },
      "execution_count": null,
      "outputs": [
        {
          "output_type": "stream",
          "name": "stdout",
          "text": [
            "What's your favorite animal? cow\n",
            "My favorite animal is also cow 🐄!\n"
          ]
        }
      ]
    },
    {
      "cell_type": "code",
      "source": [
        "def main():\n",
        "    # Ask the user to input temperature in Fahrenheit\n",
        "    fahrenheit = float(input(\"Enter temperature in Fahrenheit: \"))\n",
        "\n",
        "    # Convert Fahrenheit to Celsius\n",
        "    celsius = (fahrenheit - 32) * 5.0 / 9.0\n",
        "\n",
        "    # Output the result in the format specified\n",
        "    print(f\"Temperature: {fahrenheit}F = {celsius}C\")\n",
        "\n",
        "# This provided line is required at the end of\n",
        "# Python file to call the main() function.\n",
        "if __name__ == '__main__':\n",
        "    main()"
      ],
      "metadata": {
        "colab": {
          "base_uri": "https://localhost:8080/"
        },
        "id": "Q1btZsxWTJ_5",
        "outputId": "deefe581-be30-45f4-d809-219b55abcdbe"
      },
      "execution_count": null,
      "outputs": [
        {
          "output_type": "stream",
          "name": "stdout",
          "text": [
            "Enter temperature in Fahrenheit: 77\n",
            "Temperature: 77.0F = 25.0C\n"
          ]
        }
      ]
    },
    {
      "cell_type": "code",
      "execution_count": null,
      "metadata": {
        "colab": {
          "base_uri": "https://localhost:8080/"
        },
        "id": "7258WCJ2QMVJ",
        "outputId": "ae962b56-2a4d-4648-9916-8c27e4188ce1"
      },
      "outputs": [
        {
          "output_type": "stream",
          "name": "stdout",
          "text": [
            "This program adds two numbers.\n",
            "Enter first number: 7\n",
            "Enter second number: 9\n",
            "The total is 16.\n"
          ]
        }
      ],
      "source": [
        "import __main__\n",
        "\n",
        "def main():\n",
        "    print(\"This program adds two numbers.\")\n",
        "\n",
        "    num1 = input(\"Enter first number: \")\n",
        "    num1 = int(num1)  # Convert the input to an integer\n",
        "    num2 = input(\"Enter second number: \")\n",
        "    num2 = int(num2)  # Convert the input to an integer\n",
        "\n",
        "    Total = num1 + num2\n",
        "    print(\"The total is \" + str(Total) + \".\")\n",
        "\n",
        "# Ensure this block is only executed if the script is run directly\n",
        "if __name__ == '__main__':\n",
        "    main()"
      ]
    },
    {
      "cell_type": "code",
      "source": [
        "def main():\n",
        "    anton = 21  # Anton's age is given as 21 years old\n",
        "    beth = 6 + anton  # Beth is 6 years older than Anton, so add 6 to Anton's age to get Beth's\n",
        "    chen = 20 + beth  # Chen is 20 years older than Beth, so add 20 to Beth's age to get Chen's\n",
        "    drew = chen + anton  # Drew is as old as Chen's age plus Anton's age, so add them together\n",
        "    ethan = chen  # Ethan is the same age as Chen, so set Ethan's age equal to Chen's\n",
        "\n",
        "    # Print out all of the ages!\n",
        "    print(\"Anton is \" + str(anton))\n",
        "    print(\"Beth is \" + str(beth))\n",
        "    print(\"Chen is \" + str(chen))\n",
        "    print(\"Drew is \" + str(drew))\n",
        "    print(\"Ethan is \" + str(ethan))\n",
        "\n",
        "\n",
        "# This provided line is required at the end of the Python file to call the main() function.\n",
        "if __name__ == '__main__':\n",
        "    main()"
      ],
      "metadata": {
        "id": "MTiuoZEFTbfQ"
      },
      "execution_count": null,
      "outputs": []
    },
    {
      "cell_type": "code",
      "source": [
        "def main():\n",
        "    # Get the numbers we want to divide\n",
        "    dividend: int = int(input(\"Please enter an integer to be divided: \"))\n",
        "    divisor: int = int(input(\"Please enter an integer to divide by: \"))\n",
        "\n",
        "    quotient: int = dividend // divisor  # Divide with no remainder/decimals (integer division)\n",
        "    remainder: int = dividend % divisor  # Get the remainder of the division (modulo)\n",
        "\n",
        "    print(\"The result of this division is \" + str(quotient) + \" with a remainder of \" + str(remainder))\n",
        "\n",
        "\n",
        "# There is no need to edit code beyond this point\n",
        "\n",
        "if __name__ == '__main__':\n",
        "    main()"
      ],
      "metadata": {
        "id": "PHTW_b9DUdrU"
      },
      "execution_count": null,
      "outputs": []
    },
    {
      "cell_type": "code",
      "source": [
        "def main():\n",
        "    # Get the number from the user input and cast it to float to allow calculations\n",
        "    num: float = float(input(\"Type a number to see its square: \"))\n",
        "\n",
        "    # Calculate the square of the number using the exponentiation operator\n",
        "    square = num ** 2\n",
        "\n",
        "    # Print the result in the required format\n",
        "    print(str(num) + \" squared is \" + str(square))\n",
        "\n",
        "\n",
        "# This is required to execute the main() function when the script is run\n",
        "if __name__ == '__main__':\n",
        "    main()"
      ],
      "metadata": {
        "id": "UjLGnxaIUmUf"
      },
      "execution_count": null,
      "outputs": []
    }
  ]
}